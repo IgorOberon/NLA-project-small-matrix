{
 "cells": [
  {
   "cell_type": "code",
   "execution_count": 1,
   "metadata": {},
   "outputs": [],
   "source": [
    "import random\n",
    "from datetime import datetime\n",
    "from tqdm import tqdm\n",
    "import numpy as np\n",
    "from numpy.linalg import norm, det, eigvals\n",
    "from scipy.linalg import expm\n",
    "\n",
    "random.seed(42)"
   ]
  },
  {
   "cell_type": "markdown",
   "metadata": {},
   "source": [
    "### Экспонента симметрической матрицы 3 x 3. См. [статью](https://www.jstage.jst.go.jp/article/ipsjjip/23/2/23_171/_pdf).\n",
    "\n",
    "Общий вид симметрической матрицы:\n",
    "\n",
    "$$\n",
    "\\begin{pmatrix}\n",
    "a & b & c\\\\\n",
    "b & d & e\\\\\n",
    "c & e & f\n",
    "\\end{pmatrix}\n",
    "$$\n"
   ]
  },
  {
   "cell_type": "code",
   "execution_count": 10,
   "metadata": {},
   "outputs": [],
   "source": [
    "def custom_expm_3d(mat):\n",
    "    l1, l2, l3 = compute_eigenvalues(mat)\n",
    "    x, y, z = compute_coefs(l1, l2, l3)\n",
    "    mat_exp = x * mat @ mat + y * mat + z * np.eye(3)\n",
    "    return mat_exp\n",
    "\n",
    "def compute_coefs(l1, l2, l3):\n",
    "    if (np.abs(l1 - l2) < 1e-6) and (np.abs(l1 - l3) < 1e-6) and (np.abs(l2 - l3) < 1e-6):\n",
    "        x, y, z = 0, 0, np.exp(l1)\n",
    "    elif (np.abs(l1 - l2) < 1e-6) or (np.abs(l2 - l3) < 1e-6) or (np.abs(l1 - l3) < 1e-6):\n",
    "        if np.abs(l1 - l2) < 1e-6:\n",
    "            l_eq, l_not_eq = l1, l3\n",
    "        elif np.abs(l2 - l3) < 1e-6:\n",
    "            l_eq, l_not_eq = l2, l1\n",
    "        else:\n",
    "            l_eq, l_not_eq = l1, l2\n",
    "        s = np.exp(l_eq) / (l_eq - l_not_eq)\n",
    "        t = np.exp(l_not_eq) / (l_eq - l_not_eq)\n",
    "        x, y, z = 0, s - t, t * l_eq - s * l_not_eq\n",
    "    else:\n",
    "        s = np.exp(l1) / ((l1 - l2) * (l1 - l3))\n",
    "        t = np.exp(l2) / ((l2 - l3) * (l1 - l2))\n",
    "        u = np.exp(l3) / ((l2 - l3) * (l3 - l1))\n",
    "        x = s + t + u\n",
    "        y = -s * (l2 + l3) + t * (l3 + l1) + u * (l1 + l2)\n",
    "        z = s * l2 * l3 - t * l3 * l1 - u * l1 * l2\n",
    "    return x, y, z\n",
    "\n",
    "def compute_eigenvalues(mat):\n",
    "    mat_det = det(mat) \n",
    "    fro_norm = norm(mat, 'fro')\n",
    "    mat_trace = np.trace(mat)\n",
    "    p = (mat_trace ** 2 - 3 * fro_norm ** 2) / 6\n",
    "    q = (5 / 54 * mat_trace ** 3) - (1 / 6 * mat_trace * fro_norm ** 2) - mat_det\n",
    "    r = np.sqrt(-12 * p)\n",
    "    k = -108 * q / r ** 3\n",
    "\n",
    "    l1 = (r * np.cos(np.arccos(k) / 3) + mat_trace) / 3\n",
    "    l2 = (r * np.cos((np.arccos(k) + 2 * np.pi) / 3) + mat_trace) / 3\n",
    "    l3 = (r * np.cos((np.arccos(k) + 4 * np.pi) / 3) + mat_trace) / 3\n",
    "\n",
    "    return l1, l2, l3"
   ]
  },
  {
   "cell_type": "markdown",
   "metadata": {},
   "source": [
    "Рассмотрим для примера симметричную матрицу\n",
    "\n",
    "$$\n",
    "\\begin{pmatrix}\n",
    "1 & 2 & 3\\\\\n",
    "2 & 4 & 5\\\\\n",
    "3 & 5 & 6\n",
    "\\end{pmatrix}\n",
    "$$"
   ]
  },
  {
   "cell_type": "code",
   "execution_count": 11,
   "metadata": {},
   "outputs": [
    {
     "data": {
      "text/plain": [
       "array([[ 9093.56594553, 16384.33614782, 20431.36731548],\n",
       "       [16384.33614782, 29524.933261  , 36815.7034633 ],\n",
       "       [20431.36731548, 36815.7034633 , 45909.26940883]])"
      ]
     },
     "execution_count": 11,
     "metadata": {},
     "output_type": "execute_result"
    }
   ],
   "source": [
    "mat = np.array([[1, 2, 3], [2, 4, 5], [3, 5, 6]])\n",
    "\n",
    "expm(mat)"
   ]
  },
  {
   "cell_type": "code",
   "execution_count": 12,
   "metadata": {},
   "outputs": [
    {
     "data": {
      "text/plain": [
       "array([[ 9095.84277295, 16388.40191108, 20436.40886191],\n",
       "       [16388.40191108, 29532.25163486, 36824.81077298],\n",
       "       [20436.40886191, 36824.81077298, 45920.65354593]])"
      ]
     },
     "execution_count": 12,
     "metadata": {},
     "output_type": "execute_result"
    }
   ],
   "source": [
    "custom_expm_3d(mat)"
   ]
  },
  {
   "cell_type": "markdown",
   "metadata": {},
   "source": [
    "Будем сравнивать скорость работы `scipy` реализации и нашей на 1_000_000 сгенерированных матриц."
   ]
  },
  {
   "cell_type": "code",
   "execution_count": 5,
   "metadata": {},
   "outputs": [],
   "source": [
    "synthetic_data_3d = []\n",
    "\n",
    "for _ in range(1_000_000):\n",
    "    coefs = []\n",
    "    for _ in range(6):\n",
    "        coefs.append(random.randint(1, 100))\n",
    "    a, b, c, d, e, f = coefs\n",
    "    symm_mat = np.array([[a, b, c], [b, d, e], [c, e, f]])\n",
    "    synthetic_data_3d.append(symm_mat)"
   ]
  },
  {
   "cell_type": "markdown",
   "metadata": {},
   "source": [
    "Для начала сравним `numpy` реализацию поиска собственных векторов и нашу."
   ]
  },
  {
   "cell_type": "code",
   "execution_count": 6,
   "metadata": {},
   "outputs": [
    {
     "name": "stderr",
     "output_type": "stream",
     "text": [
      "100%|██████████| 1000000/1000000 [00:08<00:00, 123711.02it/s]"
     ]
    },
    {
     "name": "stdout",
     "output_type": "stream",
     "text": [
      "Время для Scipy реализации: 8.1 секунд. \n"
     ]
    },
    {
     "name": "stderr",
     "output_type": "stream",
     "text": [
      "\n"
     ]
    }
   ],
   "source": [
    "scipy_mat_eigvals_3d_list = []\n",
    "\n",
    "start_time = datetime.now()\n",
    "for sym_mat in tqdm(synthetic_data_3d):\n",
    "    scipy_mat_eigvals_3d_list.append(np.sort(eigvals(mat)))\n",
    "finish_time = (datetime.now() - start_time).total_seconds()\n",
    "\n",
    "print(f'Время для Scipy реализации: {round(finish_time, 2)} секунд. ')"
   ]
  },
  {
   "cell_type": "code",
   "execution_count": 7,
   "metadata": {},
   "outputs": [
    {
     "name": "stderr",
     "output_type": "stream",
     "text": [
      "100%|██████████| 1000000/1000000 [00:10<00:00, 94475.63it/s]"
     ]
    },
    {
     "name": "stdout",
     "output_type": "stream",
     "text": [
      "Время для кастомной реализации: 10.59 секунд. \n"
     ]
    },
    {
     "name": "stderr",
     "output_type": "stream",
     "text": [
      "\n"
     ]
    }
   ],
   "source": [
    "custom_mat_eigvals_3d_list = []\n",
    "\n",
    "start_time = datetime.now()\n",
    "for sym_mat in tqdm(synthetic_data_3d):\n",
    "    custom_mat_eigvals_3d_list.append(np.sort(compute_eigenvalues(mat)))\n",
    "finish_time = (datetime.now() - start_time).total_seconds()\n",
    "\n",
    "print(f'Время для кастомной реализации: {round(finish_time, 2)} секунд. ')"
   ]
  },
  {
   "cell_type": "markdown",
   "metadata": {},
   "source": [
    "По времени кастомной реализация получается даже чуть хуже"
   ]
  },
  {
   "cell_type": "code",
   "execution_count": 8,
   "metadata": {},
   "outputs": [
    {
     "name": "stdout",
     "output_type": "stream",
     "text": [
      "L2 норма разности собтственных векторов, полученных Scipy и кастомной реализациями 0.0\n"
     ]
    }
   ],
   "source": [
    "eigvals_diff = []\n",
    "\n",
    "for scipy_eigvals, custom_mat_exp in zip(scipy_mat_eigvals_3d_list, custom_mat_eigvals_3d_list):\n",
    "    eigvals_diff.append(norm(scipy_eigvals - custom_mat_exp))\n",
    "\n",
    "print(f'L2 норма разности собтственных векторов, полученных Scipy и кастомной реализациями {round(np.mean(eigvals_diff), 5)}')"
   ]
  },
  {
   "cell_type": "markdown",
   "metadata": {},
   "source": [
    "Приближаем `numpy` реализацию идеально"
   ]
  },
  {
   "cell_type": "markdown",
   "metadata": {},
   "source": [
    "Теперь сравним сами функции вычисления матричной экспоненты."
   ]
  },
  {
   "cell_type": "code",
   "execution_count": 9,
   "metadata": {},
   "outputs": [
    {
     "name": "stderr",
     "output_type": "stream",
     "text": [
      "100%|██████████| 1000000/1000000 [00:48<00:00, 20451.94it/s]"
     ]
    },
    {
     "name": "stdout",
     "output_type": "stream",
     "text": [
      "Время для Scipy реализации: 48.9 секунд. \n"
     ]
    },
    {
     "name": "stderr",
     "output_type": "stream",
     "text": [
      "\n"
     ]
    }
   ],
   "source": [
    "scipy_mat_exp_3d_list = []\n",
    "\n",
    "start_time = datetime.now()\n",
    "for sym_mat in tqdm(synthetic_data_3d):\n",
    "    scipy_mat_exp_3d_list.append(expm(mat))\n",
    "finish_time = (datetime.now() - start_time).total_seconds()\n",
    "\n",
    "print(f'Время для Scipy реализации: {round(finish_time, 2)} секунд. ')"
   ]
  },
  {
   "cell_type": "code",
   "execution_count": 10,
   "metadata": {},
   "outputs": [
    {
     "name": "stderr",
     "output_type": "stream",
     "text": [
      "100%|██████████| 1000000/1000000 [00:17<00:00, 56880.74it/s]"
     ]
    },
    {
     "name": "stdout",
     "output_type": "stream",
     "text": [
      "Время для кастомной реализации: 17.58 секунд. \n"
     ]
    },
    {
     "name": "stderr",
     "output_type": "stream",
     "text": [
      "\n"
     ]
    }
   ],
   "source": [
    "custom_mat_exp_3d_list = []\n",
    "\n",
    "start_time = datetime.now()\n",
    "for sym_mat in tqdm(synthetic_data_3d):\n",
    "    custom_mat_exp_3d_list.append(custom_expm_3d(mat))\n",
    "finish_time = (datetime.now() - start_time).total_seconds()\n",
    "\n",
    "print(f'Время для кастомной реализации: {round(finish_time, 2)} секунд. ')"
   ]
  },
  {
   "cell_type": "code",
   "execution_count": 11,
   "metadata": {},
   "outputs": [
    {
     "name": "stdout",
     "output_type": "stream",
     "text": [
      "L2 норма разности матричных экспонент, полученных Scipy и кастомной реализациями 20.93138\n",
      "Норма Фробениуса разности матричных экспонент, полученных Scipy и кастомной реализациями 20.93138\n"
     ]
    }
   ],
   "source": [
    "max_exp_diff_l2 = []\n",
    "max_exp_diff_fro = []\n",
    "\n",
    "for scipy_mat_exp, custom_mat_exp in zip(scipy_mat_exp_3d_list, custom_mat_exp_3d_list):\n",
    "    max_exp_diff_l2.append(norm(scipy_mat_exp - custom_mat_exp))\n",
    "    max_exp_diff_fro.append(norm(scipy_mat_exp - custom_mat_exp, 'fro'))\n",
    "\n",
    "print(f'L2 норма разности матричных экспонент, полученных Scipy и кастомной реализациями {round(np.mean(max_exp_diff_l2), 5)}')\n",
    "print(f'Норма Фробениуса разности матричных экспонент, полученных Scipy и кастомной реализациями {round(np.mean(max_exp_diff_fro), 5)}')"
   ]
  }
 ],
 "metadata": {
  "kernelspec": {
   "display_name": "mynla",
   "language": "python",
   "name": "python3"
  },
  "language_info": {
   "codemirror_mode": {
    "name": "ipython",
    "version": 3
   },
   "file_extension": ".py",
   "mimetype": "text/x-python",
   "name": "python",
   "nbconvert_exporter": "python",
   "pygments_lexer": "ipython3",
   "version": "3.10.16"
  }
 },
 "nbformat": 4,
 "nbformat_minor": 2
}
