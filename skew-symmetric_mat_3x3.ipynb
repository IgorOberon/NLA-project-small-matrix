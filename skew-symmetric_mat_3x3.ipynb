{
 "cells": [
  {
   "cell_type": "code",
   "execution_count": 57,
   "metadata": {},
   "outputs": [],
   "source": [
    "import random\n",
    "from datetime import datetime\n",
    "from tqdm import tqdm\n",
    "import numpy as np\n",
    "from numpy.linalg import norm\n",
    "from scipy.linalg import expm, logm\n",
    "\n",
    "random.seed(42)"
   ]
  },
  {
   "cell_type": "markdown",
   "metadata": {},
   "source": [
    "### Экспонента кососимметрической матрицы"
   ]
  },
  {
   "cell_type": "markdown",
   "metadata": {},
   "source": [
    "Коссосиметрическая матрица A 3 x 3 имеет вид.\n",
    "\n",
    "$$\n",
    "\\begin{pmatrix}\n",
    "0 & -с & b\\\\\n",
    "c & 0 & -a\\\\\n",
    "-b & a & 0\n",
    "\\end{pmatrix}\n",
    "$$\n",
    "\n",
    "Положим $\\theta = \\sqrt{a^2 + b^2 + c^2}$\n",
    "\n",
    "Тогда матричную экспоненту можно найти по формуле [Родригеса](https://en.wikipedia.org/wiki/Axis%E2%80%93angle_representation#Exponential_map_from_so(3)_to_SO(3)):\n",
    "\n",
    "$$e^A = I_{3} + \\frac{\\sin{\\theta}}{\\theta}A + \\frac{1-cos{\\theta}}{\\theta^2}A^2$$"
   ]
  },
  {
   "cell_type": "markdown",
   "metadata": {},
   "source": [
    "Возьмем для примера, a = 0.5, b = 0.75, c = 1. То есть будем рассматривать матрицу:\n",
    "\n",
    "$$\n",
    "\\begin{pmatrix}\n",
    "0 & -1 & 0.75\\\\\n",
    "1 & 0 & -0.5\\\\\n",
    "-0.75 & 0.5 & 0\n",
    "\\end{pmatrix}\n",
    "$$"
   ]
  },
  {
   "cell_type": "code",
   "execution_count": 58,
   "metadata": {},
   "outputs": [
    {
     "data": {
      "text/plain": [
       "array([[ 0.  , -1.  ,  0.75],\n",
       "       [ 1.  ,  0.  , -0.5 ],\n",
       "       [-0.75,  0.5 ,  0.  ]])"
      ]
     },
     "execution_count": 58,
     "metadata": {},
     "output_type": "execute_result"
    }
   ],
   "source": [
    "mat = np.array([[0, -1, 0.75], [1, 0, -0.5], [-0.75, 0.5, 0]])\n",
    "\n",
    "mat"
   ]
  },
  {
   "cell_type": "markdown",
   "metadata": {},
   "source": [
    "Сначала воспользуемся встроенной функцией в ```Scipy```. В дальнейшем будем считать ее эталонной и сравнивать с ней кастомную реализацию."
   ]
  },
  {
   "cell_type": "code",
   "execution_count": 59,
   "metadata": {},
   "outputs": [
    {
     "data": {
      "text/plain": [
       "array([[ 0.32984822, -0.56330438,  0.75755418],\n",
       "       [ 0.88497723,  0.46387857, -0.04039755],\n",
       "       [-0.32865704,  0.68374326,  0.65152107]])"
      ]
     },
     "execution_count": 59,
     "metadata": {},
     "output_type": "execute_result"
    }
   ],
   "source": [
    "mat_exp_scipy = expm(mat)\n",
    "\n",
    "mat_exp_scipy"
   ]
  },
  {
   "cell_type": "markdown",
   "metadata": {},
   "source": [
    "Напишем кастомную функцию на основе формулы Родригеса."
   ]
  },
  {
   "cell_type": "code",
   "execution_count": null,
   "metadata": {},
   "outputs": [],
   "source": [
    "def custom_expm_3d(a, b, c):\n",
    "    mat = np.array([[0, -c, b], [c, 0, -a], [-b, a, 0]])\n",
    "    theta = norm([a, b, c])\n",
    "    mat_exp = np.eye(3) + (np.sin(theta) / theta) * mat + ((1 - np.cos(theta)) / theta**2) * (mat @ mat)\n",
    "    return mat_exp"
   ]
  },
  {
   "cell_type": "code",
   "execution_count": null,
   "metadata": {},
   "outputs": [
    {
     "data": {
      "text/plain": [
       "array([[ 0.32984822, -0.56330438,  0.75755418],\n",
       "       [ 0.88497723,  0.46387857, -0.04039755],\n",
       "       [-0.32865704,  0.68374326,  0.65152107]])"
      ]
     },
     "execution_count": 61,
     "metadata": {},
     "output_type": "execute_result"
    }
   ],
   "source": [
    "custom_expm_3d(0.5, 0.75, 1)"
   ]
  },
  {
   "cell_type": "markdown",
   "metadata": {},
   "source": [
    "Сравним скорость работы `scipy` реализации и нашей на 1_000_000 сгенерированных матриц."
   ]
  },
  {
   "cell_type": "code",
   "execution_count": null,
   "metadata": {},
   "outputs": [],
   "source": [
    "synthetic_data_3d = [[np.random.random(), np.random.random(), np.random.random()] for _ in range(1_000_000)]"
   ]
  },
  {
   "cell_type": "code",
   "execution_count": null,
   "metadata": {},
   "outputs": [
    {
     "name": "stderr",
     "output_type": "stream",
     "text": [
      "100%|██████████| 1000000/1000000 [00:33<00:00, 29718.67it/s]"
     ]
    },
    {
     "name": "stdout",
     "output_type": "stream",
     "text": [
      "Время для Scipy реализации: 33.65 секунд. \n"
     ]
    },
    {
     "name": "stderr",
     "output_type": "stream",
     "text": [
      "\n"
     ]
    }
   ],
   "source": [
    "scipy_mat_exp_3d_list = []\n",
    "\n",
    "start_time = datetime.now()\n",
    "for triplet in tqdm(synthetic_data_3d):\n",
    "    a, b, c = triplet\n",
    "    mat = np.array([[0, -c, b], [c, 0, -a], [-b, a, 0]])\n",
    "    scipy_mat_exp_3d_list.append(expm(mat))\n",
    "finish_time = (datetime.now() - start_time).total_seconds()\n",
    "\n",
    "print(f'Время для Scipy реализации: {round(finish_time, 2)} секунд. ')"
   ]
  },
  {
   "cell_type": "code",
   "execution_count": null,
   "metadata": {},
   "outputs": [
    {
     "name": "stderr",
     "output_type": "stream",
     "text": [
      "100%|██████████| 1000000/1000000 [00:06<00:00, 157882.81it/s]"
     ]
    },
    {
     "name": "stdout",
     "output_type": "stream",
     "text": [
      "Время для кастомной реализации: 6.34 секунд. \n"
     ]
    },
    {
     "name": "stderr",
     "output_type": "stream",
     "text": [
      "\n"
     ]
    }
   ],
   "source": [
    "custom_mat_exp_3d_list = []\n",
    "\n",
    "start_time = datetime.now()\n",
    "for triplet in tqdm(synthetic_data_3d):\n",
    "    a, b, c = triplet\n",
    "    custom_mat_exp_3d_list.append(custom_expm_3d(a, b, c))\n",
    "finish_time = (datetime.now() - start_time).total_seconds()\n",
    "\n",
    "print(f'Время для кастомной реализации: {round(finish_time, 2)} секунд. ')"
   ]
  },
  {
   "cell_type": "code",
   "execution_count": null,
   "metadata": {},
   "outputs": [
    {
     "name": "stdout",
     "output_type": "stream",
     "text": [
      "L2 норма разности матричных экспонент, полученных Scipy и кастомной реализациями 0.0\n"
     ]
    }
   ],
   "source": [
    "max_exp_diff = []\n",
    "\n",
    "for scipy_mat_exp, custom_mat_exp in zip(scipy_mat_exp_3d_list, custom_mat_exp_3d_list):\n",
    "    max_exp_diff.append(norm(scipy_mat_exp - custom_mat_exp))\n",
    "\n",
    "print(f'L2 норма разности матричных экспонент, полученных Scipy и кастомной реализациями {round(np.mean(max_exp_diff), 5)}')"
   ]
  },
  {
   "cell_type": "markdown",
   "metadata": {},
   "source": [
    "Формула работает идеально"
   ]
  },
  {
   "cell_type": "markdown",
   "metadata": {},
   "source": [
    "### Логарифм от матричной экспоненты"
   ]
  },
  {
   "cell_type": "markdown",
   "metadata": {},
   "source": [
    "Пусть $R$ - матрица вращения (экспонента кососимметрической матрицы $A$), тогда \n",
    "\n",
    "$$A = \\log{R} = \\frac{\\theta}{2\\sin{\\theta}}(R-R^T)$$\n",
    "\n",
    "где $tr(R) = 1 + 2 \\cos{\\theta}$\n",
    "\n",
    "напишем функцию для вычисления логорифма матрицы вращения"
   ]
  },
  {
   "cell_type": "code",
   "execution_count": null,
   "metadata": {},
   "outputs": [],
   "source": [
    "def custom_logm_3d(r):\n",
    "    theta = np.arccos((np.trace(r) - 1) / 2)\n",
    "    mat_log = theta / (2 * np.sin(theta)) * (mat_exp_scipy - mat_exp_scipy.transpose())\n",
    "    return mat_log"
   ]
  },
  {
   "cell_type": "code",
   "execution_count": 62,
   "metadata": {},
   "outputs": [
    {
     "data": {
      "text/plain": [
       "array([[ 0.  , -1.  ,  0.75],\n",
       "       [ 1.  ,  0.  , -0.5 ],\n",
       "       [-0.75,  0.5 ,  0.  ]])"
      ]
     },
     "execution_count": 62,
     "metadata": {},
     "output_type": "execute_result"
    }
   ],
   "source": [
    "mat"
   ]
  },
  {
   "cell_type": "code",
   "execution_count": null,
   "metadata": {},
   "outputs": [
    {
     "data": {
      "text/plain": [
       "array([[ 0.  , -1.  ,  0.75],\n",
       "       [ 1.  ,  0.  , -0.5 ],\n",
       "       [-0.75,  0.5 ,  0.  ]])"
      ]
     },
     "execution_count": 66,
     "metadata": {},
     "output_type": "execute_result"
    }
   ],
   "source": [
    "custom_logm_3d(custom_expm_3d(0.5, 0.75, 1))"
   ]
  },
  {
   "cell_type": "markdown",
   "metadata": {},
   "source": [
    "Получили исходную матрицу. Причем `Scipy` logm отрабатывает некорректно, поэтому кастомное решение надежнее."
   ]
  },
  {
   "cell_type": "code",
   "execution_count": 67,
   "metadata": {},
   "outputs": [
    {
     "data": {
      "text/plain": [
       "array([[-2.59502092e-16, -1.00000000e+00,  7.50000000e-01],\n",
       "       [ 1.00000000e+00, -2.44084791e-16, -5.00000000e-01],\n",
       "       [-7.50000000e-01,  5.00000000e-01, -2.03852358e-16]])"
      ]
     },
     "execution_count": 67,
     "metadata": {},
     "output_type": "execute_result"
    }
   ],
   "source": [
    "logm(expm(mat))"
   ]
  }
 ],
 "metadata": {
  "kernelspec": {
   "display_name": "mynla",
   "language": "python",
   "name": "python3"
  },
  "language_info": {
   "codemirror_mode": {
    "name": "ipython",
    "version": 3
   },
   "file_extension": ".py",
   "mimetype": "text/x-python",
   "name": "python",
   "nbconvert_exporter": "python",
   "pygments_lexer": "ipython3",
   "version": "3.10.16"
  }
 },
 "nbformat": 4,
 "nbformat_minor": 2
}
